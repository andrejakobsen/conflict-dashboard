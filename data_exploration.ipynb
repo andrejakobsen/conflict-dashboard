{
 "cells": [
  {
   "cell_type": "code",
   "execution_count": 2,
   "metadata": {},
   "outputs": [
    {
     "name": "stderr",
     "output_type": "stream",
     "text": [
      "/var/folders/sf/fgnzjnxx5s3296jtyx58zsxh0000gn/T/ipykernel_1812/1872155342.py:4: DtypeWarning: Columns (47) have mixed types. Specify dtype option on import or set low_memory=False.\n",
      "  df = pd.read_csv(url, compression='zip')\n"
     ]
    }
   ],
   "source": [
    "import pandas as pd\n",
    "\n",
    "url = \"https://ucdp.uu.se/downloads/ged/ged211-csv.zip\"\n",
    "df = pd.read_csv(url, compression='zip')\n"
   ]
  },
  {
   "cell_type": "code",
   "execution_count": 3,
   "metadata": {},
   "outputs": [
    {
     "data": {
      "text/html": [
       "<div>\n",
       "<style scoped>\n",
       "    .dataframe tbody tr th:only-of-type {\n",
       "        vertical-align: middle;\n",
       "    }\n",
       "\n",
       "    .dataframe tbody tr th {\n",
       "        vertical-align: top;\n",
       "    }\n",
       "\n",
       "    .dataframe thead th {\n",
       "        text-align: right;\n",
       "    }\n",
       "</style>\n",
       "<table border=\"1\" class=\"dataframe\">\n",
       "  <thead>\n",
       "    <tr style=\"text-align: right;\">\n",
       "      <th></th>\n",
       "      <th>id</th>\n",
       "      <th>year</th>\n",
       "      <th>active_year</th>\n",
       "      <th>type_of_violence</th>\n",
       "      <th>conflict_name</th>\n",
       "      <th>side_a</th>\n",
       "      <th>side_b</th>\n",
       "      <th>where_prec</th>\n",
       "      <th>where_coordinates</th>\n",
       "      <th>latitude</th>\n",
       "      <th>longitude</th>\n",
       "      <th>country</th>\n",
       "      <th>region</th>\n",
       "      <th>date_prec</th>\n",
       "      <th>date_start</th>\n",
       "      <th>date_end</th>\n",
       "      <th>deaths_a</th>\n",
       "      <th>deaths_b</th>\n",
       "      <th>deaths_civilians</th>\n",
       "      <th>deaths_unknown</th>\n",
       "    </tr>\n",
       "  </thead>\n",
       "  <tbody>\n",
       "    <tr>\n",
       "      <th>0</th>\n",
       "      <td>244657</td>\n",
       "      <td>2017</td>\n",
       "      <td>1</td>\n",
       "      <td>1</td>\n",
       "      <td>Iraq: Government</td>\n",
       "      <td>Government of Iraq</td>\n",
       "      <td>IS</td>\n",
       "      <td>1</td>\n",
       "      <td>Kabul city</td>\n",
       "      <td>34.531094</td>\n",
       "      <td>69.162796</td>\n",
       "      <td>Afghanistan</td>\n",
       "      <td>Asia</td>\n",
       "      <td>1</td>\n",
       "      <td>2017-07-31 00:00:00.000</td>\n",
       "      <td>2017-07-31 00:00:00.000</td>\n",
       "      <td>0</td>\n",
       "      <td>4</td>\n",
       "      <td>0</td>\n",
       "      <td>2</td>\n",
       "    </tr>\n",
       "    <tr>\n",
       "      <th>1</th>\n",
       "      <td>132140</td>\n",
       "      <td>1989</td>\n",
       "      <td>1</td>\n",
       "      <td>1</td>\n",
       "      <td>Afghanistan: Government</td>\n",
       "      <td>Government of Afghanistan</td>\n",
       "      <td>Jam'iyyat-i Islami-yi Afghanistan</td>\n",
       "      <td>4</td>\n",
       "      <td>Nangarhar province</td>\n",
       "      <td>34.333330</td>\n",
       "      <td>70.416670</td>\n",
       "      <td>Afghanistan</td>\n",
       "      <td>Asia</td>\n",
       "      <td>3</td>\n",
       "      <td>1989-01-07 00:00:00.000</td>\n",
       "      <td>1989-01-13 00:00:00.000</td>\n",
       "      <td>6</td>\n",
       "      <td>0</td>\n",
       "      <td>0</td>\n",
       "      <td>0</td>\n",
       "    </tr>\n",
       "    <tr>\n",
       "      <th>2</th>\n",
       "      <td>130364</td>\n",
       "      <td>1989</td>\n",
       "      <td>1</td>\n",
       "      <td>1</td>\n",
       "      <td>Afghanistan: Government</td>\n",
       "      <td>Government of Afghanistan</td>\n",
       "      <td>Jam'iyyat-i Islami-yi Afghanistan</td>\n",
       "      <td>4</td>\n",
       "      <td>Kunduz province</td>\n",
       "      <td>36.750000</td>\n",
       "      <td>68.750000</td>\n",
       "      <td>Afghanistan</td>\n",
       "      <td>Asia</td>\n",
       "      <td>2</td>\n",
       "      <td>1989-01-15 00:00:00.000</td>\n",
       "      <td>1989-01-18 00:00:00.000</td>\n",
       "      <td>0</td>\n",
       "      <td>0</td>\n",
       "      <td>0</td>\n",
       "      <td>4</td>\n",
       "    </tr>\n",
       "    <tr>\n",
       "      <th>3</th>\n",
       "      <td>130359</td>\n",
       "      <td>1989</td>\n",
       "      <td>1</td>\n",
       "      <td>1</td>\n",
       "      <td>Afghanistan: Government</td>\n",
       "      <td>Government of Afghanistan</td>\n",
       "      <td>Jam'iyyat-i Islami-yi Afghanistan</td>\n",
       "      <td>1</td>\n",
       "      <td>Salang pass</td>\n",
       "      <td>35.315833</td>\n",
       "      <td>69.038889</td>\n",
       "      <td>Afghanistan</td>\n",
       "      <td>Asia</td>\n",
       "      <td>2</td>\n",
       "      <td>1989-01-23 00:00:00.000</td>\n",
       "      <td>1989-01-24 00:00:00.000</td>\n",
       "      <td>0</td>\n",
       "      <td>0</td>\n",
       "      <td>0</td>\n",
       "      <td>600</td>\n",
       "    </tr>\n",
       "    <tr>\n",
       "      <th>4</th>\n",
       "      <td>133883</td>\n",
       "      <td>1989</td>\n",
       "      <td>1</td>\n",
       "      <td>1</td>\n",
       "      <td>Afghanistan: Government</td>\n",
       "      <td>Government of Afghanistan</td>\n",
       "      <td>Jam'iyyat-i Islami-yi Afghanistan</td>\n",
       "      <td>1</td>\n",
       "      <td>Kabul city</td>\n",
       "      <td>34.531094</td>\n",
       "      <td>69.162796</td>\n",
       "      <td>Afghanistan</td>\n",
       "      <td>Asia</td>\n",
       "      <td>3</td>\n",
       "      <td>1989-01-30 00:00:00.000</td>\n",
       "      <td>1989-02-05 00:00:00.000</td>\n",
       "      <td>0</td>\n",
       "      <td>0</td>\n",
       "      <td>0</td>\n",
       "      <td>2</td>\n",
       "    </tr>\n",
       "  </tbody>\n",
       "</table>\n",
       "</div>"
      ],
      "text/plain": [
       "       id  year  active_year  type_of_violence            conflict_name  \\\n",
       "0  244657  2017            1                 1         Iraq: Government   \n",
       "1  132140  1989            1                 1  Afghanistan: Government   \n",
       "2  130364  1989            1                 1  Afghanistan: Government   \n",
       "3  130359  1989            1                 1  Afghanistan: Government   \n",
       "4  133883  1989            1                 1  Afghanistan: Government   \n",
       "\n",
       "                      side_a                             side_b  where_prec  \\\n",
       "0         Government of Iraq                                 IS           1   \n",
       "1  Government of Afghanistan  Jam'iyyat-i Islami-yi Afghanistan           4   \n",
       "2  Government of Afghanistan  Jam'iyyat-i Islami-yi Afghanistan           4   \n",
       "3  Government of Afghanistan  Jam'iyyat-i Islami-yi Afghanistan           1   \n",
       "4  Government of Afghanistan  Jam'iyyat-i Islami-yi Afghanistan           1   \n",
       "\n",
       "    where_coordinates   latitude  longitude      country region  date_prec  \\\n",
       "0          Kabul city  34.531094  69.162796  Afghanistan   Asia          1   \n",
       "1  Nangarhar province  34.333330  70.416670  Afghanistan   Asia          3   \n",
       "2     Kunduz province  36.750000  68.750000  Afghanistan   Asia          2   \n",
       "3         Salang pass  35.315833  69.038889  Afghanistan   Asia          2   \n",
       "4          Kabul city  34.531094  69.162796  Afghanistan   Asia          3   \n",
       "\n",
       "                date_start                 date_end  deaths_a  deaths_b  \\\n",
       "0  2017-07-31 00:00:00.000  2017-07-31 00:00:00.000         0         4   \n",
       "1  1989-01-07 00:00:00.000  1989-01-13 00:00:00.000         6         0   \n",
       "2  1989-01-15 00:00:00.000  1989-01-18 00:00:00.000         0         0   \n",
       "3  1989-01-23 00:00:00.000  1989-01-24 00:00:00.000         0         0   \n",
       "4  1989-01-30 00:00:00.000  1989-02-05 00:00:00.000         0         0   \n",
       "\n",
       "   deaths_civilians  deaths_unknown  \n",
       "0                 0               2  \n",
       "1                 0               0  \n",
       "2                 0               4  \n",
       "3                 0             600  \n",
       "4                 0               2  "
      ]
     },
     "execution_count": 3,
     "metadata": {},
     "output_type": "execute_result"
    }
   ],
   "source": [
    "columns = ['id', 'year', 'active_year', \n",
    "    'type_of_violence', 'conflict_name', 'side_a', \n",
    "    'side_b', 'where_prec', 'where_coordinates', \n",
    "    'latitude', 'longitude', 'country',\n",
    "    'region', 'date_prec', 'date_start', \n",
    "    'date_end', 'deaths_a', 'deaths_b', \n",
    "    'deaths_civilians', 'deaths_unknown']\n",
    "\n",
    "df = df[columns]\n",
    "df.head()"
   ]
  },
  {
   "cell_type": "code",
   "execution_count": 4,
   "metadata": {},
   "outputs": [
    {
     "name": "stdout",
     "output_type": "stream",
     "text": [
      "<class 'pandas.core.frame.DataFrame'>\n",
      "RangeIndex: 261864 entries, 0 to 261863\n",
      "Data columns (total 20 columns):\n",
      " #   Column             Non-Null Count   Dtype  \n",
      "---  ------             --------------   -----  \n",
      " 0   id                 261864 non-null  int64  \n",
      " 1   year               261864 non-null  int64  \n",
      " 2   active_year        261864 non-null  int64  \n",
      " 3   type_of_violence   261864 non-null  int64  \n",
      " 4   conflict_name      261864 non-null  object \n",
      " 5   side_a             261864 non-null  object \n",
      " 6   side_b             261864 non-null  object \n",
      " 7   where_prec         261864 non-null  int64  \n",
      " 8   where_coordinates  261864 non-null  object \n",
      " 9   latitude           261864 non-null  float64\n",
      " 10  longitude          261864 non-null  float64\n",
      " 11  country            261864 non-null  object \n",
      " 12  region             261864 non-null  object \n",
      " 13  date_prec          261864 non-null  int64  \n",
      " 14  date_start         261864 non-null  object \n",
      " 15  date_end           261864 non-null  object \n",
      " 16  deaths_a           261864 non-null  int64  \n",
      " 17  deaths_b           261864 non-null  int64  \n",
      " 18  deaths_civilians   261864 non-null  int64  \n",
      " 19  deaths_unknown     261864 non-null  int64  \n",
      "dtypes: float64(2), int64(10), object(8)\n",
      "memory usage: 40.0+ MB\n"
     ]
    }
   ],
   "source": [
    "df.info()"
   ]
  },
  {
   "cell_type": "code",
   "execution_count": 5,
   "metadata": {},
   "outputs": [
    {
     "data": {
      "text/plain": [
       "id                   0.0\n",
       "year                 0.0\n",
       "active_year          0.0\n",
       "type_of_violence     0.0\n",
       "conflict_name        0.0\n",
       "side_a               0.0\n",
       "side_b               0.0\n",
       "where_prec           0.0\n",
       "where_coordinates    0.0\n",
       "latitude             0.0\n",
       "longitude            0.0\n",
       "country              0.0\n",
       "region               0.0\n",
       "date_prec            0.0\n",
       "date_start           0.0\n",
       "date_end             0.0\n",
       "deaths_a             0.0\n",
       "deaths_b             0.0\n",
       "deaths_civilians     0.0\n",
       "deaths_unknown       0.0\n",
       "dtype: float64"
      ]
     },
     "execution_count": 5,
     "metadata": {},
     "output_type": "execute_result"
    }
   ],
   "source": [
    "df.isna().sum()/len(df)"
   ]
  },
  {
   "cell_type": "code",
   "execution_count": 6,
   "metadata": {},
   "outputs": [
    {
     "data": {
      "text/plain": [
       "region\n",
       "Africa          48625\n",
       "Americas        16848\n",
       "Asia            82610\n",
       "Europe          12573\n",
       "Middle East    101208\n",
       "dtype: int64"
      ]
     },
     "execution_count": 6,
     "metadata": {},
     "output_type": "execute_result"
    }
   ],
   "source": [
    "df.groupby([\"region\"]).size()"
   ]
  },
  {
   "cell_type": "code",
   "execution_count": 7,
   "metadata": {},
   "outputs": [],
   "source": [
    "total_deaths = df['deaths_a'] + df['deaths_b'] + df['deaths_civilians'] + df['deaths_unknown']"
   ]
  },
  {
   "cell_type": "code",
   "execution_count": null,
   "metadata": {},
   "outputs": [],
   "source": []
  }
 ],
 "metadata": {
  "interpreter": {
   "hash": "e8832bd687e2ad8a495d621f9f3d3600dc73d8635aa1bdcabaed73ef0efa9b8d"
  },
  "kernelspec": {
   "display_name": "Python 3.10.0 64-bit ('conflict-app': conda)",
   "language": "python",
   "name": "python3"
  },
  "language_info": {
   "codemirror_mode": {
    "name": "ipython",
    "version": 3
   },
   "file_extension": ".py",
   "mimetype": "text/x-python",
   "name": "python",
   "nbconvert_exporter": "python",
   "pygments_lexer": "ipython3",
   "version": "3.10.0"
  },
  "orig_nbformat": 4
 },
 "nbformat": 4,
 "nbformat_minor": 2
}
